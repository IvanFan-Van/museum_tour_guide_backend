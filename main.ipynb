{
 "cells": [
  {
   "cell_type": "code",
   "execution_count": 16,
   "id": "2b93f074",
   "metadata": {},
   "outputs": [],
   "source": [
    "from dotenv import load_dotenv, find_dotenv\n",
    "from langchain.text_splitter import RecursiveCharacterTextSplitter\n",
    "from langchain_community.retrievers import BM25Retriever\n",
    "from langchain_community.document_loaders import DirectoryLoader, TextLoader\n",
    "from pathlib import Path\n",
    "from nltk import word_tokenize\n",
    "from nltk.stem import WordNetLemmatizer\n",
    "from nltk.corpus import stopwords\n",
    "import string\n",
    "\n",
    "load_dotenv(find_dotenv())\n",
    "\n",
    "stopword_corpus = set(stopwords.words(\"english\"))\n",
    "lemmatizer = WordNetLemmatizer()\n",
    "def preprocess_fn(text: str):\n",
    "    text = text.lower()\n",
    "    text = ''.join([c for c in text if c not in string.punctuation])\n",
    "    tokens = word_tokenize(text)\n",
    "    tokens = [t for t in tokens if t not in stopword_corpus]\n",
    "    tokens = [lemmatizer.lemmatize(t) for t in tokens]\n",
    "    return tokens\n",
    "\n",
    "docs_folder = Path(\n",
    "    r\"D:\\HKU\\Inno Wing RA\\UBC Exchange\\code\\output\\Objectifying_China\\docs\"\n",
    ")\n",
    "loader = DirectoryLoader(str(docs_folder.absolute()), glob=\"**/*.md\", loader_cls=TextLoader, loader_kwargs={\"encoding\": \"utf-8\"})\n",
    "docs = loader.load()\n",
    "retriever = BM25Retriever.from_documents(docs, preprocess_func=preprocess_fn)"
   ]
  },
  {
   "cell_type": "code",
   "execution_count": 4,
   "id": "50aa7a70",
   "metadata": {},
   "outputs": [
    {
     "name": "stdout",
     "output_type": "stream",
     "text": [
      "binary_score='yes'\n"
     ]
    }
   ],
   "source": [
    "### Retrieval Grader\n",
    "import os\n",
    "from langchain_core.prompts import ChatPromptTemplate\n",
    "from langchain_openai import AzureChatOpenAI\n",
    "from pydantic import BaseModel, Field\n",
    "\n",
    "# Data model\n",
    "class GradeDocuments(BaseModel):\n",
    "    \"\"\"Binary score for relevance check on retrieved documents.\"\"\"\n",
    "\n",
    "    binary_score: str = Field(\n",
    "        description=\"Documents are relevant to the question, 'yes' or 'no'\"\n",
    "    )\n",
    "\n",
    "\n",
    "# LLM with function call\n",
    "llm = AzureChatOpenAI(\n",
    "    api_version=os.environ[\"AZURE_API_VERSION\"],\n",
    "    azure_endpoint=os.environ[\"AZURE_OPENAI_ENDPOINT\"],\n",
    "    azure_deployment=os.environ[\"AZURE_OPENAI_DEPLOYEMENT\"]\n",
    ")\n",
    "\n",
    "structured_llm_grader = llm.with_structured_output(GradeDocuments)\n",
    "\n",
    "# Prompt\n",
    "system = \"\"\"You are a grader assessing relevance of a retrieved document to a user question. \\n \n",
    "    It does not need to be a stringent test. The goal is to filter out erroneous retrievals. \\n\n",
    "    If the document contains keyword(s) or semantic meaning related to the user question, grade it as relevant. \\n\n",
    "    Give a binary score 'yes' or 'no' score to indicate whether the document is relevant to the question.\"\"\"\n",
    "grade_prompt = ChatPromptTemplate.from_messages(\n",
    "    [\n",
    "        (\"system\", system),\n",
    "        (\"human\", \"Retrieved document: \\n\\n {document} \\n\\n User question: {question}\"),\n",
    "    ]\n",
    ")\n",
    "\n",
    "retrieval_grader = grade_prompt | structured_llm_grader\n",
    "question = \"Introduce to me some vases\"\n",
    "docs = retriever.invoke(question)\n",
    "doc_txt = docs[1].page_content\n",
    "print(retrieval_grader.invoke({\"question\": question, \"document\": doc_txt}))"
   ]
  },
  {
   "cell_type": "code",
   "execution_count": 5,
   "id": "61559fce",
   "metadata": {},
   "outputs": [
    {
     "name": "stdout",
     "output_type": "stream",
     "text": [
      "Here are examples of vases:\n",
      "\n",
      "1. Longquan celadon vases were highly valued in East Asia, particularly in Japan, known for their translucent glaze and mallet shapes, often used for burial purposes during the Southern Song and Yuan dynasties.\n",
      "\n",
      "2. Mounted porcelain vases and bowls from Jingdezhen, China (Kangxi period), featured intricate designs like pierced \"linglong\" patterns and were later adorned with precious metal mounts in Europe to demonstrate wealth.\n",
      "\n",
      "These highlight the cultural significance and craftsmanship of vases across civilizations.\n"
     ]
    }
   ],
   "source": [
    "### Generate\n",
    "from langchain import hub\n",
    "from langchain_core.output_parsers import StrOutputParser\n",
    "\n",
    "# Prompt\n",
    "prompt = hub.pull(\"rlm/rag-prompt\")\n",
    "\n",
    "# Post-processing\n",
    "def format_docs(docs):\n",
    "    return \"\\n\\n\".join(doc.page_content for doc in docs)\n",
    "\n",
    "# Chain\n",
    "rag_chain = prompt | llm | StrOutputParser()\n",
    "\n",
    "# Run\n",
    "generation = rag_chain.invoke({\"context\": docs, \"question\": question})\n",
    "print(generation)"
   ]
  },
  {
   "cell_type": "code",
   "execution_count": 6,
   "id": "b83fb833",
   "metadata": {},
   "outputs": [
    {
     "data": {
      "text/plain": [
       "GradeHallucinations(binary_score='yes')"
      ]
     },
     "execution_count": 6,
     "metadata": {},
     "output_type": "execute_result"
    }
   ],
   "source": [
    "### Hallucination Grader\n",
    "\n",
    "\n",
    "# Data model\n",
    "class GradeHallucinations(BaseModel):\n",
    "    \"\"\"Binary score for hallucination present in generation answer.\"\"\"\n",
    "\n",
    "    binary_score: str = Field(\n",
    "        description=\"Answer is grounded in the facts, 'yes' or 'no'\"\n",
    "    )\n",
    "\n",
    "\n",
    "# LLM with function call\n",
    "structured_llm_grader = llm.with_structured_output(GradeHallucinations)\n",
    "\n",
    "# Prompt\n",
    "system = \"\"\"You are a grader assessing whether an LLM generation is grounded in / supported by a set of retrieved facts. \\n \n",
    "     Give a binary score 'yes' or 'no'. 'Yes' means that the answer is grounded in / supported by the set of facts.\"\"\"\n",
    "hallucination_prompt = ChatPromptTemplate.from_messages(\n",
    "    [\n",
    "        (\"system\", system),\n",
    "        (\"human\", \"Set of facts: \\n\\n {documents} \\n\\n LLM generation: {generation}\"),\n",
    "    ]\n",
    ")\n",
    "\n",
    "hallucination_grader = hallucination_prompt | structured_llm_grader\n",
    "hallucination_grader.invoke({\"documents\": docs, \"generation\": generation})"
   ]
  },
  {
   "cell_type": "code",
   "execution_count": 7,
   "id": "796d67f4",
   "metadata": {},
   "outputs": [
    {
     "data": {
      "text/plain": [
       "GradeAnswer(binary_score='yes')"
      ]
     },
     "execution_count": 7,
     "metadata": {},
     "output_type": "execute_result"
    }
   ],
   "source": [
    "### Answer Grader\n",
    "\n",
    "\n",
    "# Data model\n",
    "class GradeAnswer(BaseModel):\n",
    "    \"\"\"Binary score to assess answer addresses question.\"\"\"\n",
    "\n",
    "    binary_score: str = Field(\n",
    "        description=\"Answer addresses the question, 'yes' or 'no'\"\n",
    "    )\n",
    "\n",
    "\n",
    "# LLM with function call\n",
    "structured_llm_grader = llm.with_structured_output(GradeAnswer)\n",
    "\n",
    "# Prompt\n",
    "system = \"\"\"You are a grader assessing whether an answer addresses / resolves a question \\n \n",
    "     Give a binary score 'yes' or 'no'. Yes' means that the answer resolves the question.\"\"\"\n",
    "answer_prompt = ChatPromptTemplate.from_messages(\n",
    "    [\n",
    "        (\"system\", system),\n",
    "        (\"human\", \"User question: \\n\\n {question} \\n\\n LLM generation: {generation}\"),\n",
    "    ]\n",
    ")\n",
    "\n",
    "answer_grader = answer_prompt | structured_llm_grader\n",
    "answer_grader.invoke({\"question\": question, \"generation\": generation})"
   ]
  },
  {
   "cell_type": "code",
   "execution_count": 8,
   "id": "751d2f31",
   "metadata": {},
   "outputs": [
    {
     "data": {
      "text/plain": [
       "'Can you suggest different types or styles of vases and their unique features?'"
      ]
     },
     "execution_count": 8,
     "metadata": {},
     "output_type": "execute_result"
    }
   ],
   "source": [
    "### Question Re-writer\n",
    "\n",
    "# Prompt\n",
    "system = \"\"\"You a question re-writer that converts an input question to a better version that is optimized \\n \n",
    "     for vectorstore retrieval. Look at the input and try to reason about the underlying semantic intent / meaning.\"\"\"\n",
    "re_write_prompt = ChatPromptTemplate.from_messages(\n",
    "    [\n",
    "        (\"system\", system),\n",
    "        (\n",
    "            \"human\",\n",
    "            \"Here is the initial question: \\n\\n {question} \\n Formulate an improved question.\",\n",
    "        ),\n",
    "    ]\n",
    ")\n",
    "\n",
    "question_rewriter = re_write_prompt | llm | StrOutputParser()\n",
    "question_rewriter.invoke({\"question\": question})"
   ]
  },
  {
   "cell_type": "code",
   "execution_count": 9,
   "id": "1ccdbbbc",
   "metadata": {},
   "outputs": [],
   "source": [
    "from typing import List\n",
    "\n",
    "from typing_extensions import TypedDict\n",
    "\n",
    "\n",
    "class GraphState(TypedDict):\n",
    "    \"\"\"\n",
    "    Represents the state of our graph.\n",
    "\n",
    "    Attributes:\n",
    "        question: question\n",
    "        generation: LLM generation\n",
    "        documents: list of documents\n",
    "    \"\"\"\n",
    "\n",
    "    question: str\n",
    "    generation: str\n",
    "    documents: List[str]"
   ]
  },
  {
   "cell_type": "code",
   "execution_count": 11,
   "id": "c920a4bb",
   "metadata": {},
   "outputs": [],
   "source": [
    "from langgraph.graph import END, StateGraph, START\n",
    "\n",
    "workflow = StateGraph(GraphState)\n",
    "\n",
    "# Define the nodes\n",
    "workflow.add_node(\"retrieve\", retrieve)  # retrieve\n",
    "workflow.add_node(\"grade_documents\", grade_documents)  # grade documents\n",
    "workflow.add_node(\"generate\", generate)  # generate\n",
    "workflow.add_node(\"transform_query\", transform_query)  # transform_query\n",
    "\n",
    "# Build graph\n",
    "workflow.add_edge(START, \"retrieve\")\n",
    "workflow.add_edge(\"retrieve\", \"grade_documents\")\n",
    "workflow.add_conditional_edges(\n",
    "    \"grade_documents\",\n",
    "    decide_to_generate,\n",
    "    {\n",
    "        \"transform_query\": \"transform_query\",\n",
    "        \"generate\": \"generate\",\n",
    "    },\n",
    ")\n",
    "workflow.add_edge(\"transform_query\", \"retrieve\")\n",
    "workflow.add_conditional_edges(\n",
    "    \"generate\",\n",
    "    grade_generation_v_documents_and_question,\n",
    "    {\n",
    "        \"not supported\": \"generate\",\n",
    "        \"useful\": END,\n",
    "        \"not useful\": \"transform_query\",\n",
    "    },\n",
    ")\n",
    "\n",
    "# Compile\n",
    "app = workflow.compile()"
   ]
  },
  {
   "cell_type": "code",
   "execution_count": 1,
   "id": "44720439",
   "metadata": {},
   "outputs": [
    {
     "name": "stderr",
     "output_type": "stream",
     "text": [
      "d:\\HKU\\Inno Wing RA\\UBC Exchange\\self_rag\\.venv\\Lib\\site-packages\\tqdm\\auto.py:21: TqdmWarning: IProgress not found. Please update jupyter and ipywidgets. See https://ipywidgets.readthedocs.io/en/stable/user_install.html\n",
      "  from .autonotebook import tqdm as notebook_tqdm\n",
      "WARNING:root:Failed to import splade encoder. If you want to use splade, install the splade extra dependencies by running: `pip install pinecone-text[splade]`\n"
     ]
    }
   ],
   "source": [
    "import os\n",
    "from langchain_openai import AzureOpenAIEmbeddings\n",
    "from pinecone import Pinecone, ServerlessSpec\n",
    "from dotenv import load_dotenv, find_dotenv\n",
    "from pinecone_text.sparse import BM25Encoder\n",
    "from langchain_community.retrievers import PineconeHybridSearchRetriever\n",
    "\n",
    "load_dotenv(find_dotenv())\n",
    "\n",
    "# create the index\n",
    "index_name = \"umag-hybrid-search\"\n",
    "pc = Pinecone(api_key=os.environ.get(\"PINECONE_API_KEY\"))\n",
    "if index_name not in pc.list_indexes().names():\n",
    "    pc.create_index(\n",
    "        name=index_name,\n",
    "        dimension=3072,  # dimensionality of dense model\n",
    "        metric=\"dotproduct\",  # sparse values supported only for dotproduct\n",
    "        spec=ServerlessSpec(cloud=\"aws\", region=\"us-east-1\"),\n",
    "    )\n",
    "\n",
    "index = pc.Index(index_name)\n",
    "\n",
    "bm25_encoder = BM25Encoder.default()\n",
    "\n",
    "embeddings = AzureOpenAIEmbeddings(\n",
    "    azure_deployment=os.environ[\"AZURE_OPENAI_EMBEDDING_DEPLOYMENT\"],\n",
    "    azure_endpoint=os.environ[\"AZURE_OPENAI_EMBEDDING_ENDPOINT\"],\n",
    ")\n",
    "\n",
    "retriever = PineconeHybridSearchRetriever(\n",
    "    embeddings=embeddings, sparse_encoder=bm25_encoder, index=index, top_k=10\n",
    ")"
   ]
  },
  {
   "cell_type": "code",
   "execution_count": 2,
   "id": "904824a3",
   "metadata": {},
   "outputs": [
    {
     "data": {
      "text/plain": [
       "[Document(metadata={'score': 0.598115683}, page_content=\"# Porcelain terminology  \\n\\nPorcelain terminologyThe Chinese term 'ci' (translated as porcelain in English) refers to all ceramics that are fired at high temperatures, including porcelain and stoneware. In the West, the term porcelain refers specifically to white ceramics made with a special type of clay called kaolin and fired to a temperature of about  $1300^{\\\\circ}\\\\mathrm{C}$ , which results in a translucent, glassy material that makes a ringing sound when struck. Stoneware is used to refer to related ceramics that are similarly hard and dense, but which are made with grey or brown clay, may or may not be white- bodied, do not transmit light, and are fired to a slightly lower temperature of 1000 to  $1250^{\\\\circ}\\\\mathrm{C}$ . Ceramics fired below this temperature range are called earthenwares. The terms 'poro- porcelain' or 'porcellaneous' are sometimes used to describe early ceramics made with some of the same ingredients and physical characteristics of porcelain.\"),\n",
       " Document(metadata={'score': 0.520147264}, page_content=\"# Porcelain manufactories in Europe  \\n\\nPortuguese traders were successful in returning home with samples of kaolin, which they discovered in China to be essential in the production of porcelain wares, but Europeans remained ignorant of the techniques and processes involved in the production of porcelain until 1708, when the first European hard- paste porcelain (made from a compound of the feldspathic rock petuntse and kaolin clay fired at around  $1400^{\\\\circ}\\\\mathrm{C}$ ) was made in Meissen, Germany by Johann Friedrich Böttger. With support from the porcelain- obsessed Augustus II the Strong of Saxony (who on his death in 1733 owned 35,798 pieces of porcelain; the largest collection in Europe), Böttger established a factory at Meissen, just outside Dresden, in 1710, and was soon producing large amounts of hard- paste porcelain. In the 1720s, the Meissen factory developed a new and extensive range of enamel colours, and the factory's painters excelled in fantastic depictions of life in an imagined Far East. These successes were soon followed by the founding of a second factory in Vienna by Claudius du Paquier, assisted by the former kiln master from Meissen, which began making hard- paste porcelain by about 1719. A number of other factories opened in Germany in the 1740s and '50s, often with workers from Meissen or Vienna who provided the necessary technical expertise.  \\n\\nThe discoveries in Meissen were followed by the establishment of major factories elsewhere in Europe. In Italy, where soft- paste porcelain (an imitation, low- fired porcelain that lacked the ingredients found in hard- paste porcelain) had been made at the Medici workshops since the late sixteenth century, Francesco Vezzi established a porcelain factory in Venice that began producing hard- paste porcelain in significant numbers in 1720. Experiments by the Marchese Carlo Ginori led to the development of a hard- paste porcelain factory in Doccia, near Florence in 1737, which produced works inspired by delicate white wares from Dehua (fig. 7). Both men were assisted by workers from the Du Paquier factory, and Doccia porcelain from the 1740s sometimes features painted decoration that reflects the influence of Du Paquier porcelain—demonstrating the atmosphere of technological and stylistic exchange that characterised the European ceramic industry of the eighteenth century.  \\n\\nKaolin was not discovered in France until the second half of the eighteenth century, and all French porcelain produced before 1770 was soft- rather than hard- paste. Both types were first made in factories which had previously produced the most common ceramic product of the time—faience, a type of tin- glazed earthenware—like those in Rouen and Saint- Cloud. Perhaps the most successful of these was at Sèvres in the western part of Paris, which had moved from its former premises in Vincennes in 1756. With the financial backing of King Louis XV (r. 1715–1774), the Sèvres factory soon came to dominate not only the French ceramic industry, but also the entirety of European ceramics for the second half of the eighteenth century. Innovative and experimental new forms were always in development, and the factory looked to different sources of inspiration, such as Japanese lacquer (fig. 8). By the mid- 1750s, it had overtaken the Meissen factory in terms of production and innovation. It remained at the forefront of European porcelain production for the rest of the century.  \\n\\nAcross the channel, English manufacturers struggled to discover the secrets of making porcelain without access to the necessary ingredients, and between the 1740s and 1760s were only able to develop formulae that created a range of supports porcelain materials for tableware. This has argued after the discovery of kaolin clay in Cornwall in 1746 by an English chemist named William Cookworthy, who soon found even better- quality clay in St Stephen's, near St Austell. After two decades of experimentation, Cookworthy patented his recipe for making porcelain and established the Plymouth China factory in 1768—the first in England to manufacture hard- paste porcelain. By the turn of the century, England had a flourishing porcelain industry, with factories in Derby, Worcester, Staffordshire, Liverpool and elsewhere. Primarily commercial ventures that operated without noble or royal financial support, they were run by entrepreneurs and artisans, and much of their output was aimed at a growing middle class.  \\n\\nThe European factories were so successful that eventually the demand for Chinese porcelain began to diminish, and towards the end of the eighteenth century the trade fell into serious decline. But centuries of genuine artistic exchange stimulated by the trade in porcelain had left an indelible mark on the arts of Europe. Chinese ceramics remain a potent source of design ideas for artists today, working in fields as diverse as architecture, interior design, theatre and painting.  \\n\\nBen Chiesa Assistant Curator, University Museum and Art Gallery, The University of Hong Kong\\n\\n4. Some scholars have suggested that English manufacturers may have produced hard-paste porcelain before Böttger, but his factory in Meisen was certainly the first to produce it in large quantities (Queiroz and Agathopoulos 2005).    \"),\n",
       " Document(metadata={'score': 0.500100613}, page_content='# Tea bowl and saucer  \\n\\nMeissen, Germany. ca. 1735Hard- paste porcelain, diameter 7.1 cm (tea bowl), 12 cm (saucer)Asian Civilisations Museum, 2007- 55790, 2007- 55789Gift of Mr and Mrs Toshio Egawa  \\n\\nMade in Meissen, the centre of porcelain production near Dresden, this tea bowl and saucer demonstrates the popularity of Dehua porcelain in Europe during the first half of the eighteenth century. Like Chinese porcelain, Meissen ware is a hard- paste porcelain, which more closely duplicates the glassy surface of blanc de Chine than earlier European soft- paste porcelain.  \\n\\nThe moulded prunus branches on the tea bowl were a popular Dehua motif widely emulated on Western porcelain. Motifs were sometimes altered as they were taken up in the West; the vegetation on the saucer more closely resembles grape vines.'),\n",
       " Document(metadata={'score': 0.494517595}, page_content=\"# Blanc de Chine\\n\\nThe extremely fine, evenly toned porcelains in this section were made in the kilns of Dehua in Fujian province, southern China. Fujian, a tea- growing region, attracted the attention of European merchants in the sixteenth and seventeenth centuries, and many of these objects were brought back to Europe, where this type of white Dehua porcelain became known as blanc de Chine (French for 'white of China'). They were also exported to Japan in large quantities.  \\n\\nDehua specialised in whitewares, the most highly prized were those with an ivory- coloured glaze. References in seventeenth century literary sources note that the translucent appearance of Dehua whitewares was the result of 'truly fine' porcelain stone that was dug by driving a shaft into the side of a nearby hill, from where the material was then pulled out with a rope. The earliest pieces of Dehua porcelain were made of this locally mined porcelain stone, with little or no clay, and were thinly potted. Unlike Jingdezhen, the Dehua kilns had no access to water transportation and until the arrival of foreign merchants most of its products were sold locally.  \\n\\nThe most common types of Dehua products were incense burners and Buddhist figures moulded and finished by hand. In China, these were usually placed on household altars and the latter were worshipped as devotional images. They were also brought to Europe as exotic curiosity items during the seventeenth century, where they were placed on tables and cabinets in the residences of aristocrats and wealthy people, or exhibited in porcelain rooms.  \\n\\nBy the eighteenth century, Europeans were familiar with Chinese polychrome ceramics. Dehua wares simply may have been seen as too plain by comparison, and many were gilded or enamelled in Europe to make them more attractive to customers. The Dehua kilns also produced objects tailored for the European market, including figures of Dutch men and women and Christian figures. These wares were closely copied at European porcelain factories, such as Meissen, Chantilly and Bow.  \"),\n",
       " Document(metadata={'score': 0.488162398}, page_content='# 瓷器術語  \\n\\n瓷器術語中文詞彙的「瓷」（英文譯成 porcelain）是指所有以高溫燒製的陶瓷器，包括瓷器和炻器。英式詞彙的 porcelain 則專指一種加入了高嶺土，以攝氏一千三百度高溫燒成的半透明、明淨如鏡的白色瓷器，當它被敲打時會發出清脆的響聲。炻是指一種以灰色或褐色土為材料，以攝氏一千度至一千二百五十度較低溫燒製，其硬度和密度與瓷器相的，但器身不一定是白色的陶瓷。以低於攝氏一千二百五十度燒成的器物則稱為土器。「原始瓷器」或「類瓷器」偶爾會用來表示造型及製成材料與瓷器相近的早期陶瓷語。'),\n",
       " Document(metadata={'score': 0.483287185}, page_content=\"# Enamelled porcelain  \\n\\nThe decoration of ceramics with colourful patterns in China started with sancai or 'three- colour' wares from the Tang period. During the late Ming and Qing dynasties, when the trade in porcelain between China and the West reached new heights, porcelains decorated in red, green and yellow with outlines of blackish cobalt or underglaze blue called wucai (five- colour) became the most widely produced polychrome wares. Depending on the prominence of certain colours, they came to be known in Europe by names such as famille verte ('green family') and famille rose ('rose family'), after terms used by the French Jesuit and ceramic collector Albert Jacquemart in 1873.  \\n\\nColours were added to porcelain by applying enamels (powdered glass mixed with pigments) to unglazed clay that had been through one firing or to glazed ceramics, sometimes with underglaze decoration in blue applied beforehand. The enamels were then fused to the surface through a second firing at a relatively low temperature of about  $900^{\\\\circ}C$ . Major advancements in the production of polychrome porcelain were achieved in the early eighteenth century, driven by the support of the Kangxi emperor—a patron of the arts who encouraged experimentation at the imperial kilns in Jingdezhen—and by the arrival of European Jesuits at court, who brought with them knowledge of Western chemistry. These innovations included the use of a greater percentage of kaolin in the firing process, the noble uses of chalting in new colour kilns rich and white, and changes to the composition and firing of glazes that led to the invention of complex hues like 'peachbloom' and 'oxblood red'.  \\n\\nEnamelled porcelain proved hugely successful in Europe, and large amounts were purchased by the Dutch and British East India companies in the seventeenth century. This trade was briefly interrupted when the Qing dynasty cut off porcelain exports from 1644 to 1684, at which point traders turned to the Arita kilns in Japan. The brightly coloured objects they purchased from there were popular enough that Chinese makers were forced to imitate Japanese styles when Chinese exports resumed. European manufactories later produced their own synthesised versions, incorporating stylistic features found on export ceramics from both countries. Facing strong competition from China and Japan, they developed a wide range of goods aimed at different classes, from fine ornamental pieces for the fashion- conscious, to simply decorated items for daily use.  \\n\\nEnamelled porcelain tended to be more expensive than blue- and- white porcelain, which could be produced in a single firing, and also tended to be more expensive. It was seen as particularly suitable for special commissions with personalised decoration, such as coats of arms, and could replicate designs better than blue- and- white porcelain. It was an interest in these ceramic很少 porcelain such as ones such as the demand for enamelled porcelains in Europe in the eighteenth and nineteenth centuries.  \\n\\nMany different types of enamelled porcelain were also produced for export to parts of Asia in the eighteenth and nineteenth centuries, where colourful and boldly patterned ceramics like Zhangzhou ware had been traded since the late Ming dynasty. Some were decorated with unique palettes and motifs not found on ceramics for other markets, such as the vividly contrasting colours and Hindu- Buddhist iconography of 'Bencharong' (derived from the Sanskrit word for 'five- colour') for the Siamese court, or the auspicious symbolism and bright pinks, greens and yellows of 'nyonya ware' made for Peranakan Chinese communities in the Straits Settlements.  \"),\n",
       " Document(metadata={'score': 0.462756485}, page_content=\"# Chinese porcelain in Europe and Asia  \\n\\nThe word porcelain originated with the Venetian traveller Marco Polo (1254- 1324) when he saw white- bodied ceramics being made in China for the court of Kublai Khan. He called them porcelain, Italian for a white seashell, and this soon became the standard term in Europe. But China had been producing porcelain of the highest quality for markets across the globe long before the arrival of Europeans. From the sixth to twentieth centuries, Chinese kilns produced everything from magnificent display pieces for the imperial court to vast quantities of bowls, plates and dishes inter- de- for everyday use and for export to Southeast Asia, Japan, Korea and the Islamic world. The appeal of these works lay not just in their technical achievement, but also in their association with Chinese art and culture, long viewed as a source of learning, tradition and vast wealth.  \\n\\nThe first Chinese porcelains arrived in Europe in the fourteenth century, when small numbers were presented as rare gifts to the ruling houses of Europe via intermediaries in the Middle East (fig. 1). Delicate, nearly transparent and resistant to extreme heat and moisture, they were technologically superior to the thick, low- fired European ceramics made before the eighteenth century, and were regarded as objects of great rarity and luxury. Their construction was so poorly understood that European collectors often had them mounted in gilt silver or gold in a manner similar to naturalia (natural wonders) like ostrich eggs and large shells, which emphasised their preciousness and transformed them into entirely different objects. They were often displayed in cabinets of curiosities: collections of extraordinary objects which, like today's museums, attempted to categorise and tell stories about the wonders of the natural world (fig. 2).  \\n\\nBy the early sixteenth century—after Portugal established trade routes to the Far East and began commercial trade with Asia via Portuguese- controlled ports in Macau, Malacca and Dejima—porcelain became an important component of the wider trade in silk, spices, tea, ivory, metalwork and lacquer between East and West. Major production centres like Jingdezhen in Jiangxi province responded to demand in Europe by producing large amounts of porcelain specifically for export, transported and used as a form of ballast in large merchant ships. New arrivals like the Dutch and British built up competing trade networks in the seventeenth century, which stimulated the production of special shapes and patterns for certain countries, as well as commissions from wealthy families who wanted personalised features on their dishes. The fashion for collecting these objects spread so quickly as to appear almost contagious, and was described by some enthusiasts as la maladie die porcelainine—'porcelain- sickness'. Among the wealthiest collectors this led to the creation of 'porcelain rooms', where masses of porcelain wares were displayed together and arranged on mantelpieces, cabinets and fitted wall- mounts—part of the late Baroque interior which combined the lavish use of colour with wood panelled or lacquered walls.  \\n\\n1. Architect and designer Daniel Marot (1661-1752) is often linked to this late Baroque style. His designs for several rooms of Kensington Palace demonstrate the typical high-density approach to porcelain display of the late Baroque period (ca. 1660-1725).  \\n\\nThe appearance of these objects changed in step with tastes in Europe. At times consumers favoured designs that depicted an exotic East, while at others Western patterns with prominent armorial crests or landscapes and figures taken from prints were preferred. European designs were transmitted via a well- established trading network which carried models to China, where they were copied onto special services (fig. 3). This often had strange results, such as a Dutch charger with the use of A- arts technical school's AMSTEL DAM's copper exhibition cover with the seal of Portugal painted upside down (fig. 4). Europeans also affected artistic change by bringing new technologies and techniques to China, such as the famille- rose (rose family in French) palette, which was employed widely on both domestic and export porcelain. Guiseppe Castiglione (1688- 1766), a Jesuit painter patronised by the Kangxi, Yongzheng and Qianlong emperors, famously introduced Western painting techniques such as single- point perspective to Chinese artists, which found expression across a variety of mediums.  \\n\\nLike all successful inventions, Chinese ceramics inspired competition, at first in Asia and later in Europe. In the late Tang period, traders from the Middle East brought Chinese porcelains to western Asia, where potters in Iraq copied them with great ingenuity. Lacking access to naturally occurring kaolin clay—a mineral rich in silicates that gives porcelain much of its strength—they emulated the beauty of pure white porcelain using white slip (a liquefied suspension of clay particles in water), often embellished with painted decoration in blue pigments derived from cobalt oxide (fig. 5). Following the introduction of Chinese examples towards the end of the Tran dynasty (1225- 1400), Vietnamese potters developed their own unique ceramics, which were more heavily potted than Chinese wares and slightly off- white in colour (fig. 6). Produced at major kiln sites like Chu Dou and Bát Tràng near Hanoi, these wares benefited from the first of several interruptions to porcelain production in China, brought about by social unrest and dynastic change, and by the fifteenth century formed part of a lively intra- Asian trade in ceramics with Malaysia, Thailand, Indonesia and the Philippines.  \\n\\n2. Referred to as the 'Ming gap' (ca. 1370- 1570) by scholars like Roxanna Brown, these interruptions occurred between 1325 and 1380. The second severe shortage of blue-and-white porcelain saw China's market share of ceramic production decrease to  $50\\\\%$  from 1368 to 1424-1430. This decreased to  $5\\\\%$  from 1424-1430 to 1487, before rebounding during the reign of the Hongzhi emperor, and then declining once again until the formal rescinding of the haijin (sea ban) in 1567.  \\n\\nOn China's borders, nearly five centuries of Goryeo dynasty (918- 1392) rule in Korea saw blue- green celadons inspired by wares from China become the dominant type of ceramics produced on the peninsula. And Korean potters, many of whom arrived during two invasions of Korea led by Toyotomi Hideyoshi in the 1590s, took an active role in the development of porcelain production in Japan. The early porcelain wares they produced, called Imari after a port near kilns in Arita, had a coarse, grainy texture with fluid, free- form designs in various shades of blue. They were influenced by both Korean and Chinese monochrome porcelain and less formal blue- and white wares from southern Chinese kilns—the latter export wares that were made to conform to the aesthetic of the Japanese tea ceremony. Later, Imari wares were consciously designed to cater to Western tastes and became much more colourful and regimented, at times achieving more access in Europe than their Chinese counterparts.\\n\\n3. The Dutch, exempt from restrictions on trade placed on other European nations by the Japanese authorities, also spread the Arita potters to Chinese underglaze blue porcelain, which was popular in Europe, so that they could use it as an example in their own work.  \"),\n",
       " Document(metadata={'score': 0.449991643}, page_content='# Commemorative plate  \\n\\nSpode, England, ca. 1822 Stone china with overglaze enamels, diameter  $25.7 \\\\mathrm{cm}$  Hong Kong Maritime Museum, HKMM2013.0040.0001  \\n\\nMade in Spode, England, this plate carries the arms of the Honourable East India Company, together with its motto Auspicio Regis et Senatus Angliae (By right of the King and the Senate of England). Established in 1600, the first English East India Company was named The Governor and Company of Merchants of London trading into the East Indies. Formed to pursue trade with maritime Southeast Asia, it eventually came to dominate half of the world\\'s trade. In 1698, its name was changed to the Honourable East India Company and in 1709 a new coat of arms, shown on this plate, was adopted.  \\n\\nArmorial porcelains like this plate were a major component of the global trade in porcelain for centuries, beginning with blue- and- white dishes made by Jingdezhen for export to Portugal in the 1540s. Britain was a major consumer of armorial porcelain from China, accounting for over half of the total amount of armorial porcelain produced before the entry of America into the China trade in 1784. By the eighteenth century, British porcelain manufacturers were also producing such spades. This plate may have been part of a larger service ordered from the Wode factory by the East India Company in 1822 or 1823, for use in the company\\'s factory in Canton. A banner on the reverse reads \"The London\", after the ship which brought the ceramics to China in 1824. Its captain, John Barnet Sotherby, may have ordered several plates for his own use.  \\n\\nThe Spode factory developed stone china, a variety of tough earthenware, in 1813. It was one of many similar earthenwares made as substitutes for porcelain after the East India Company responded to the success of the European porcelain industry, and declining demand for Chinese export porcelain, by reducing large- scale imports in 1791.'),\n",
       " Document(metadata={'score': 0.431704372}, page_content=\"# Mounted bowl  \\n\\nJingdezhen, China, Kangxi period, 1662- 1722; mounts added in the Netherlands, late 17th century Porcelain with underglaze blue and ormolu mounts, 15.2 x 21.5 cm Asian Civilisations Museum, 2014- 00433  \\n\\nExotic and highly valued, early porcelain in Europe was perceived in the same way as natural curiosities like ostrich eggs, serpentine and coconuts, and like those materials was sometimes ornamented with expensive mounts chosen to enhance its value. Because of their rarity and cost, these early mounted porcelains were confined to royalty and a few aristocratic families, where they were used as attractive sideboards or displayed in kunstkammer (cabinets of curiosities in German).  \\n\\nAfter the Dutch and British East India companies entered the trade in Chinese ceramics in the seventeenth century, and porcelain became available to a growing middle- class, the practice of mounting these objects with precious metals continued as a means of demonstrating wealth and luxury. Their presence in numerous Dutch and Flemish still life paintings of the early seventeenth century attests to their popularity.  \\n\\nMounted porcelain took various forms, from small blue- and- white bowls and ewers to large celadon vases and pots. This bowl was made for export at Jingdezhen, with the mounts added later, probably in the Netherlands. The exterior features an openwork honeycomb and flower- head pattern, revealing a body decorated with underglaze blue floral sprays beneath. Double- walled objects with a pierced outer wall like this bowl are called linglong (devil's work') in China due to the time and effort it takes to produce them.\"),\n",
       " Document(metadata={'score': 0.428307503}, page_content='# Blue-and-white  \\n\\nPerhaps the first truly global commodity, blue- and- white porcelain reached a wider audience than any other type of Chinese ceramic. Sent to markets in Southeast Asia, Japan, Korea, India, the Middle East and even Africa, it inspired potters in major ceramic centres to produce elegant ceramics of their own design; from the rich turquoise fritwares of fifteenth- century Iznik, to elaborately panelled Japanese kraak wares from seventeenth century Arita. Blue- and- white porcelain was also the first to be collected in Europe in large numbers, sparking a craze for things Chinese in the sixteenth century that would last well into the nineteenth, as new generations of artists and collectors rediscovered and renewe the art form.  \\n\\nThe earliest surviving Chinese blue- and- white ceramics were made in the Tang period, when kilns in northern China dominated the production of both high- fired white stonewares and porcelains. A shared creation of China and the Islamic Middle East, they were decorated with cobalt blue imported from northeast Persia or the Arabian Peninsula, using decorative techniques invented by potters in Basra, Iraq to embellish tin- glazed earthenwares. These earthenwares were themselves developed in imitation of Chinese white wares, demonstrating the remarkable hybridity of early ceramic industries in Asia.  \\n\\nTang blue- and- white ceramics represented a brief period of experimentation that was not repeated until the fourteenth century, when strong familial, cultural and economic ties to the Islamic world and the stabilisation of overland trade routes under the Mongol- led Yuan dynasty opened new markets and made access to imported cobalt easier. Yuan imperial patronage turned the kilns of Jingdezhen in Jiangxi province into the largest porcelain production centre in China.  \\n\\nCombined with a cultural policy that promoted artistic exchange between different ethnic groups, this patronage created an atmosphere of experimentation that allowed new forms and styles to develop, including highly finished works intended for the court and less formal wares for the export market, transported along the silk road and from major ports like Canton and Quanzhou.\\n\\nThe success of Yuan blue- and- whites laid the foundations for the dominance of the export industry in the Ming and Qing dynasties, when millions of ceramics were produced in the imperial kilns and private commercial enterprises. Tailored with specific designs for certain markets, they often found their way elsewhere. The Portuguese purchased blue- and- white porcelain made for the Malay Peninsula in Malacca, and when the Dutch established a foothold in the Indonesian Archipelago in the first decades of the seventeenth century, they gained access to the important transhipment hub of Batavia (Jakarta), from which over twelve million Chinese ceramics were shipped to Holland between 1607 and 1684. Not all of these were designed with European consumers in mind and Dutch still- life oil paintings reveal that porcelains in shapes seemingly made for non- European customers were sold and used in Europe.  \\n\\nBlue- and- white porcelain remained the most popular export form until the end of the seventeenth century, when growing European interest in wares decorated with coats of arms encouraged the use of polychrome enamels that allowed for more detailed, accurate depictions of heraldry. The Jingdezhen kilns, still the most important in China, responded to this demand and the trade in colourful porcelain supplanted blue- and- white to become the defining aspect of Chinese export porcelain in the eighteenth century.  ')]"
      ]
     },
     "execution_count": 2,
     "metadata": {},
     "output_type": "execute_result"
    }
   ],
   "source": [
    "retriever.invoke(\"How's the porcelain made of?\", )"
   ]
  },
  {
   "cell_type": "code",
   "execution_count": 7,
   "id": "fb428a70",
   "metadata": {},
   "outputs": [],
   "source": [
    "from langchain_community.document_loaders import DirectoryLoader, TextLoader\n",
    "from pathlib import Path\n",
    "\n",
    "docs_folder = Path(\n",
    "    r\"D:\\HKU\\Inno Wing RA\\UBC Exchange\\self_rag\\output\\Objectifying_China\\docs\"\n",
    ")\n",
    "loader = DirectoryLoader(\n",
    "    str(docs_folder.absolute()),\n",
    "    glob=\"**/*.md\",\n",
    "    loader_cls=TextLoader,\n",
    "    loader_kwargs={\"encoding\": \"utf-8\"},\n",
    ")\n",
    "docs = loader.load()"
   ]
  },
  {
   "cell_type": "code",
   "execution_count": null,
   "id": "303c2624",
   "metadata": {},
   "outputs": [],
   "source": [
    "import re\n",
    "\n",
    "image_links = []\n",
    "for doc in docs:\n",
    "    matches = re.findall(\"!\\[\\]\\([a-zA-Z:/\\-\\.0-9]+\\)\", doc.page_content)\n",
    "    image_links.append(matches)\n",
    "\n",
    "print(image_links)"
   ]
  },
  {
   "cell_type": "code",
   "execution_count": 9,
   "id": "101eaa74",
   "metadata": {},
   "outputs": [
    {
     "data": {
      "text/plain": [
       "164"
      ]
     },
     "execution_count": 9,
     "metadata": {},
     "output_type": "execute_result"
    }
   ],
   "source": [
    "len(docs)"
   ]
  },
  {
   "cell_type": "code",
   "execution_count": 10,
   "id": "1b6ed5d5",
   "metadata": {},
   "outputs": [
    {
     "name": "stderr",
     "output_type": "stream",
     "text": [
      "100%|██████████| 6/6 [00:16<00:00,  2.75s/it]\n"
     ]
    }
   ],
   "source": [
    "retriever.add_texts([\n",
    "    d.page_content for d in docs\n",
    "])"
   ]
  },
  {
   "cell_type": "code",
   "execution_count": 15,
   "id": "6f0a0e91",
   "metadata": {},
   "outputs": [
    {
     "data": {
      "text/plain": [
       "[Document(metadata={'score': 0.456929594}, page_content='![](https://cdn-mineru.openxlab.org.cn/result/2025-07-27/26ec8c02-599c-4b79-9876-e092d6287e02/0135e38ba2b52933cfe06032bd440b643e0ea5f7622891c690c30c256dec39f8.jpg)  \\n\\nPlate, Jingdezhen, China, 1739- 1743. Porcelain with overglaze enamels, diameter  $22.9 \\\\mathrm{~cm}$ . The Metropolitan Museum of Art, New York  碟·中國景德鎮·一七三九年至一七四三年·釉上彩瓷，直徑22.9厘米。紐約，大都會藝術博物館  '),\n",
       " Document(metadata={'score': 0.442890882}, page_content='![](https://cdn-mineru.openxlab.org.cn/result/2025-07-27/26ec8c02-599c-4b79-9876-e092d6287e02/6287610049ad775024f987714a2df9afac918f938997e628dbc261362ba0ff5b.jpg)  \\n\\njug with Portuguese arms. Jingdezhen, China, ca. 1520- 1540. Porcelain with underglaze blue, height  $18.7 \\\\mathrm{~cm}$ . The Metropolitan Museum of Art, New York  箱莓牙徽章纹壶·中國景德鎮·約一五二零年至一五四零年，青花瓷，高18.7厘米。紐約，大都會藝術博物館  '),\n",
       " Document(metadata={'score': 0.39922142}, page_content=\"# Tankard  \\n\\nJingdezhen, China (Ming dynasty), early 15th century Porcelain with underglaze blue, height  $13.3\\\\mathrm{cm}$  HKU.C.1957.0193  \\n\\nThe unusual shape of this tankard derives from containers introduced to China by traders from the Islamic world during the Yuan dynasty. The same form, but lacking a handle, is known in twelfth, thirteenth- and fourteenth- century Islamic metalwork, while examples with handles appear in Persian and Persian dynasty 479. Chinese metal work is often featured in the Yuan dynasty at the imperial kiln complex in Jingdezhen.  \\n\\nSuccessful both domestically and as export items sent to the Middle East, the continued to be produced into the reigns of the Yongle and Xuande emperors. Clearly treasured possessions in successive dynasties, a similar tankard displayed on a wooden stand is illustrated in the gw wan tu (pictures of ancient playthings') handscroll in the Victoria and Albert Museum; a form of pictorial inventory of the palace collections made in 1729 for the Yongzheng emperor.  \\n\\nEuropeans admired the exotic profiles of Chinese porcelains inspired by objects from the Middle East. After arriving in Europe, often via the Netherlands, tankards were sometimes mounted with silver- gilt covers and stands. Later on, seventeenth- century versions of these tankards from Arita were even made with pre- formed holes in the handles to facilitate the addition of mounts.\"),\n",
       " Document(metadata={'score': 0.399200618}, page_content=\"# Mounted bowl  \\n\\nJingdezhen, China, Kangxi period, 1662- 1722; mounts added in the Netherlands, late 17th century Porcelain with underglaze blue and ormolu mounts, 15.2 x 21.5 cm Asian Civilisations Museum, 2014- 00433  \\n\\nExotic and highly valued, early porcelain in Europe was perceived in the same way as natural curiosities like ostrich eggs, serpentine and coconuts, and like those materials was sometimes ornamented with expensive mounts chosen to enhance its value. Because of their rarity and cost, these early mounted porcelains were confined to royalty and a few aristocratic families, where they were used as attractive sideboards or displayed in kunstkammer (cabinets of curiosities in German).  \\n\\nAfter the Dutch and British East India companies entered the trade in Chinese ceramics in the seventeenth century, and porcelain became available to a growing middle- class, the practice of mounting these objects with precious metals continued as a means of demonstrating wealth and luxury. Their presence in numerous Dutch and Flemish still life paintings of the early seventeenth century attests to their popularity.  \\n\\nMounted porcelain took various forms, from small blue- and- white bowls and ewers to large celadon vases and pots. This bowl was made for export at Jingdezhen, with the mounts added later, probably in the Netherlands. The exterior features an openwork honeycomb and flower- head pattern, revealing a body decorated with underglaze blue floral sprays beneath. Double- walled objects with a pierced outer wall like this bowl are called linglong (devil's work') in China due to the time and effort it takes to produce them.\"),\n",
       " Document(metadata={'score': 0.390698433}, page_content=\"# Blanc de Chine\\n\\nThe extremely fine, evenly toned porcelains in this section were made in the kilns of Dehua in Fujian province, southern China. Fujian, a tea- growing region, attracted the attention of European merchants in the sixteenth and seventeenth centuries, and many of these objects were brought back to Europe, where this type of white Dehua porcelain became known as blanc de Chine (French for 'white of China'). They were also exported to Japan in large quantities.  \\n\\nDehua specialised in whitewares, the most highly prized were those with an ivory- coloured glaze. References in seventeenth century literary sources note that the translucent appearance of Dehua whitewares was the result of 'truly fine' porcelain stone that was dug by driving a shaft into the side of a nearby hill, from where the material was then pulled out with a rope. The earliest pieces of Dehua porcelain were made of this locally mined porcelain stone, with little or no clay, and were thinly potted. Unlike Jingdezhen, the Dehua kilns had no access to water transportation and until the arrival of foreign merchants most of its products were sold locally.  \\n\\nThe most common types of Dehua products were incense burners and Buddhist figures moulded and finished by hand. In China, these were usually placed on household altars and the latter were worshipped as devotional images. They were also brought to Europe as exotic curiosity items during the seventeenth century, where they were placed on tables and cabinets in the residences of aristocrats and wealthy people, or exhibited in porcelain rooms.  \\n\\nBy the eighteenth century, Europeans were familiar with Chinese polychrome ceramics. Dehua wares simply may have been seen as too plain by comparison, and many were gilded or enamelled in Europe to make them more attractive to customers. The Dehua kilns also produced objects tailored for the European market, including figures of Dutch men and women and Christian figures. These wares were closely copied at European porcelain factories, such as Meissen, Chantilly and Bow.  \"),\n",
       " Document(metadata={'score': 0.389505}, page_content=\"# Bowl with brown glaze  \\n\\nJingdezhen, China (Qing dynasty), Qianlong period, 1736- 1795 Porcelain with underglaze blue and brown glaze, diameter 18.5 cm HKUC.1987.0914  \\n\\nLarge quantities of bowls and dishes with underglaze blue decoration on the interior and deep brown glazes on the exterior were produced in Jingdezhen during the early eighteenth century, when the fashion for Chinese porcelain was at its highest in Europe. Made by adding high concentrations of iron oxide (usually in the form of iron filings) to the glaze during the firing process, porcelain wares of this type were referred to as Batavian ware, after the major Dutch port in Indonesia through which they were shipped.  \\n\\nA visitor to the Qing court, the French Jesuit priest Francois Xavier d'Entrecolles described porcelains of this type as tse- kin (golden brown) in letters sent to his superiors in 1712 and 1723. He observed that they were on the main wares manufactured for the Qing court on a regular basis, and a recent invention—though the long history of brown glazes in China suggests that he was referring specifically to technical processes used in the early eighteenth century rather than brown- glazed porcelain in general.  \\n\\nThese wares were particularly popular in the Netherlands, although significant quantities recovered from the foundered Swedish East Indiaman Gothervg (sunk 1745) demonstrate that they were also exported to Northern Europe in large quantities. They were shipped to America after it entered the China trade in 1784, and the decoration was later revived in the early nineteenth century, primarily on wares intended for export to Southeast Asia. This bowl was recovered from the Nanking cargo, the wreck of a Dutch East India Company ship which left Canton in December 1751 with more than 230,000 pieces of porcelain, textiles and tea for the European market.\"),\n",
       " Document(metadata={'score': 0.388110787}, page_content='# Vase  \\n\\nVaseJingdezhen, China (Qing dynasty) Kangxi period, 1662–1722Porcelain with overglaze enamels, height 45 cmHKU.C.1955.0172\\n\\n# Vase  \\n\\nJingdezhen, China (Qing dynasty) Kangxi period, 1662–1722Porcelain with overglaze enamels, height 48.2 cmHKU.C.1972.0437  \\n\\nThe pictorial decoration on these objects resembles literati- style landscape paintings. Incredibly detailed, the designs demonstrate the sophisticated porcelain enamelling techniques developed during the reign of the Kangxi emperor. A great supporter of the arts, Kangxi initiated major efforts to rebuild the kilns at Jingdezhen, which had been destroyed in 1674 by Minna rebels. The emperor encouraged potters at the newly- rebuilt kilns to push technological limits, resulting in large, finely potted ceramics with complex polychrome designs.  \\n\\nCommon subjects for such objects include historical characters modelled after illustrations in woodblock- print plays and novels. Literati themes were also popular, such as the scene of scholars enjoying leisurely activities depicted on the brush pot, or the scholarly objects and antiques depicted in panels on the second vase.\\n\\n# Brush pot  \\n\\nBrush potJingdezhen, China (Qing dynasty) Kangxi period, 1662–1722Porcelain with underglaze blue and overglaze enamels, height 16.9 cmHKU.C.1972.0431'),\n",
       " Document(metadata={'score': 0.385866076}, page_content=\"# Vase and plate  \\n\\nJingdezhen, China (Qing dynasty) Kangxi period, 1662- 1722 Porcelain with powder blue glaze, gilding and overglaze enamels, height  $43.3\\\\mathrm{cm}$  diameter  $27~\\\\mathrm{cm}$  HKU.C.1954.0136, HKU.C.1976.0623  \\n\\nThe speckled blue surface of these objects, called powder blue, was created by blowing cobalt blue through a bamboo tube onto unfired porcelain, a technique that was perfected in the Kangxi period. On wares like this, specially shaped resists were used to create blank areas, which were subsequently painted in overglaze enamels and then fired a second time. A third firing fixed gilded designs onto the surface of the blue ground.  \\n\\nThe complex three- stage decoration and firing of such objects made them luxurious and expensive export items. They were often decorated with figure and objects that European consumers found appealing, such as a slender Chinese lady depicted in several panels on the vase. In the Dutch language she was called Lange Lijs, which became 'Long Eliza' in English. One of the most popular designs on export wares from the Kangxi period, the design was widely imitated in European porcelain, particularly on plates and bowls from Worcester in the 1760s.\"),\n",
       " Document(metadata={'score': 0.384547293}, page_content='# Pair of plates with wucai enamels  \\n\\nJingdezhen, China (Ming dynasty), Wanli period, 1573- 1620 Porcelain with underglaze blue and overglaze enamels, diameter 11 cm HKUC.1959.0278  \\n\\nThese ceramics are decorated in the wucai (five- colour) palette, with outlines in underglaze blue and surface enamels in red, yellow and green. First developed during the reign of the Jiajing emperor, the production of wucai porcelain flourished in the Wanli period. These emperors commissioned a variety of porcelain objects decorated in this style, made in both the imperial kilns and private commercial enterprises. These plates, decorated on the interior with an imperial five- clawed dragon and marked on the base with the reign marks of the Wanli emperor, may be one such example.  \\n\\nDespite the name, wucai porcelain could be decorated with fewer or more than five colours. Ming dynasty enamelling techniques allowed for some variety in tone, but gradations in colour and shading were limited. Innovations in the Kangsi period, such as the addition of opaque white (derived from lead arsenate) and transparent ruby enamel (from colloidal gold), led to the development of new variations of wucai, such as famille rose, which were highly prized in Europe.'),\n",
       " Document(metadata={'score': 0.382969439}, page_content='# Bowl  \\n\\nJingdezhen, China (Ming dynasty), early or mid- 15th century Porcelain with underglaze blue, diameter 20.8 cm HKU.C.2003.1485  \\n\\nThe base of this bowl is painted with the reign marks of the Xuande emperor, but in its shape and design it is closely related to a group of Chenghua period blue- and- white porcelain bowls formerly in the collection of the Tsui Museum of Art. The Tsui bowls are similarly marked Xuande, but were unearthed from Chenghua period strata at imperial kiln sites in Jingdezhen. They represent the earliest known examples of reign marks from a previous era being inscribed on pieces of imperial porcelain—a practice that later became widespread as a mark of respect and to acknowledge the borrowing of designs. Lions playing with beribboned balls on the exterior carry auspicious associations of physical and spiritual power and wishes for high rank.\\n\\n8. The Tsui Museum of Art housed the collection of Hong Kong businessman T.T. Tsui, who began collecting in the 1970s. Tsui donated a significant portion of his collection to UMAG and the Hong Kong Heritage Museum, as well as to numerous institutions in Australia, the United Kingdom and the United States.  \\n')]"
      ]
     },
     "execution_count": 15,
     "metadata": {},
     "output_type": "execute_result"
    }
   ],
   "source": [
    "retriever.invoke(\"Please introduce some Jingdezhen porcelains\")"
   ]
  },
  {
   "cell_type": "code",
   "execution_count": 7,
   "id": "98f5542b",
   "metadata": {},
   "outputs": [],
   "source": [
    "from langgraph_sdk import get_client\n",
    "\n",
    "client = get_client(url=\"http://10.147.19.97:8000\")\n",
    "assistants = await client.assistants.search()"
   ]
  },
  {
   "cell_type": "code",
   "execution_count": 8,
   "id": "99524f24",
   "metadata": {},
   "outputs": [],
   "source": [
    "assistant = assistants[0]"
   ]
  },
  {
   "cell_type": "code",
   "execution_count": 4,
   "id": "729fbbcd",
   "metadata": {},
   "outputs": [],
   "source": [
    "thread = await client.threads.create()"
   ]
  },
  {
   "cell_type": "code",
   "execution_count": null,
   "id": "619738c4",
   "metadata": {},
   "outputs": [
    {
     "ename": "AttributeError",
     "evalue": "'str' object has no attribute 'data'",
     "output_type": "error",
     "traceback": [
      "\u001b[31m---------------------------------------------------------------------------\u001b[39m",
      "\u001b[31mAttributeError\u001b[39m                            Traceback (most recent call last)",
      "\u001b[36mCell\u001b[39m\u001b[36m \u001b[39m\u001b[32mIn[11]\u001b[39m\u001b[32m, line 8\u001b[39m\n\u001b[32m      1\u001b[39m \u001b[38;5;28;01masync\u001b[39;00m \u001b[38;5;28;01mfor\u001b[39;00m chunk \u001b[38;5;129;01min\u001b[39;00m client.runs.stream(\n\u001b[32m      2\u001b[39m     thread[\u001b[33m\"\u001b[39m\u001b[33mthread_id\u001b[39m\u001b[33m\"\u001b[39m],\n\u001b[32m      3\u001b[39m     assistant[\u001b[33m\"\u001b[39m\u001b[33massistant_id\u001b[39m\u001b[33m\"\u001b[39m],\n\u001b[32m   (...)\u001b[39m\u001b[32m      6\u001b[39m     }\n\u001b[32m      7\u001b[39m ):\n\u001b[32m----> \u001b[39m\u001b[32m8\u001b[39m     \u001b[38;5;28mprint\u001b[39m(\u001b[43mchunk\u001b[49m\u001b[43m.\u001b[49m\u001b[43mevent\u001b[49m\u001b[43m.\u001b[49m\u001b[43mdata\u001b[49m)\n",
      "\u001b[31mAttributeError\u001b[39m: 'str' object has no attribute 'data'"
     ]
    }
   ],
   "source": [
    "async for chunk in client.runs.stream(\n",
    "    thread[\"thread_id\"],\n",
    "    assistant[\"assistant_id\"],\n",
    "    input={\n",
    "        \"question\": \"Introduce the chinese porcelain\"\n",
    "    },\n",
    "):\n",
    "    print(chunk.event)"
   ]
  }
 ],
 "metadata": {
  "kernelspec": {
   "display_name": ".venv",
   "language": "python",
   "name": "python3"
  },
  "language_info": {
   "codemirror_mode": {
    "name": "ipython",
    "version": 3
   },
   "file_extension": ".py",
   "mimetype": "text/x-python",
   "name": "python",
   "nbconvert_exporter": "python",
   "pygments_lexer": "ipython3",
   "version": "3.12.11"
  }
 },
 "nbformat": 4,
 "nbformat_minor": 5
}
